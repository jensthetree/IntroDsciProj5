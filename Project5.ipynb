{
 "cells": [
  {
   "cell_type": "code",
   "execution_count": 1,
   "id": "442d9584",
   "metadata": {},
   "outputs": [],
   "source": [
    "import csv\n",
    "import sys\n",
    "\n",
    "import numpy as np\n",
    "import matplotlib.pyplot as plt\n",
    "import pandas as pd\n",
    "\n",
    "\n",
    "\n",
    "# possible discrete distributions: bernouli, binomial, nbinomial, geometric, poisson\n",
    "# possible continuous distributions: normal, gamma, exponential, uniform\n",
    "# Given that these data points were taken continuously, and regard a natural phenomenon, our first guess is that \n",
    "# we should use the normal distribution to describe these phenomena\n",
    "\n",
    "from scipy.stats import norm"
   ]
  },
  {
   "cell_type": "code",
   "execution_count": 2,
   "id": "cbe3ef4e",
   "metadata": {},
   "outputs": [],
   "source": [
    "#### CONTINUOUS DISTRIBUTION DEFINITIONS ####\n",
    "# normal: useful for describing random naturally occuring phenomena. Based on mean and standard dev\n",
    "# gamma: useful for modeling data that should have a continuous and positively skewed nature. Based on shape and rate\n",
    "# uniform: useful for modeling data that has equal probability of occuring\n",
    "# exponential: usefol for modeling the probability distribution of time before events"
   ]
  },
  {
   "cell_type": "code",
   "execution_count": 3,
   "id": "51d515ca",
   "metadata": {},
   "outputs": [],
   "source": [
    "# read csv file\n",
    "df_farm = pd.read_csv(\"C:\\\\Users\\\\032tr\\\\Documents\\\\DSCI125\\\\Projects\\\\Proj#5\\\\agriculturalData.csv\")"
   ]
  },
  {
   "cell_type": "code",
   "execution_count": 4,
   "id": "3e2b6789",
   "metadata": {},
   "outputs": [],
   "source": [
    "# print the head of the data frame to test\n",
    "#df_farm.head()\n",
    "#plt.plot(df_farm)"
   ]
  },
  {
   "cell_type": "code",
   "execution_count": 5,
   "id": "e2e8d184",
   "metadata": {},
   "outputs": [
    {
     "data": {
      "text/plain": [
       "(13247, 3)"
      ]
     },
     "execution_count": 5,
     "metadata": {},
     "output_type": "execute_result"
    }
   ],
   "source": [
    "# number of columns = amount of time\n",
    "# each increment of time is 10 minutes\n",
    "df_farm.shape"
   ]
  },
  {
   "cell_type": "code",
   "execution_count": 6,
   "id": "6e0e17b1",
   "metadata": {},
   "outputs": [],
   "source": [
    "# set useful constants\n",
    "num_data_points = 13247\n",
    "\n",
    "time_increments_per_day = 144\n",
    "sample_size = time_increments_per_day\n",
    "\n",
    "num_days_june = 30\n",
    "june_len = num_days_june * 144\n",
    "\n",
    "num_days_july = 31\n",
    "july_len = num_days_july * 144\n",
    "\n",
    "num_days_august = 31\n",
    "aug_len = num_days_august * 144\n",
    "\n",
    "june_july = june_len + july_len\n",
    "\n",
    "num_days_df = num_days_june + num_days_july + num_days_august\n",
    "\n",
    "first_temp = 44.309\n",
    "first_wind = 11.602\n",
    "\n"
   ]
  },
  {
   "cell_type": "code",
   "execution_count": 7,
   "id": "38337dbd",
   "metadata": {},
   "outputs": [
    {
     "data": {
      "text/plain": [
       "array([44.309, 35.501, 53.018, 58.87 ])"
      ]
     },
     "execution_count": 7,
     "metadata": {},
     "output_type": "execute_result"
    }
   ],
   "source": [
    "# initialize an array for temperature measurements in degrees F\n",
    "flat_farm = df_farm.to_numpy()\n",
    "flat_farm.flatten()\n",
    "temp = np.zeros(num_data_points)\n",
    "for i in range(num_data_points):\n",
    "    if i == 0:\n",
    "        temp[i] = first_temp\n",
    "    else:\n",
    "        temp[i] = flat_farm[i][1]\n",
    "temp[:4]\n"
   ]
  },
  {
   "cell_type": "code",
   "execution_count": 8,
   "id": "075db032",
   "metadata": {},
   "outputs": [
    {
     "data": {
      "text/plain": [
       "array([11.602 ,  8.9213, 13.22  , 10.275 ])"
      ]
     },
     "execution_count": 8,
     "metadata": {},
     "output_type": "execute_result"
    }
   ],
   "source": [
    "# initialize wind measurements in mph\n",
    "wind = np.zeros(num_data_points)\n",
    "for i in range(num_data_points):\n",
    "    if i == 0:\n",
    "        wind[i] = first_wind\n",
    "    else:\n",
    "        wind[i] = flat_farm[i][2]\n",
    "wind[:4]"
   ]
  },
  {
   "cell_type": "code",
   "execution_count": 9,
   "id": "66c7c0aa",
   "metadata": {},
   "outputs": [
    {
     "data": {
      "text/plain": [
       "Text(0.5, 1.0, 'Wind Speed (mph)')"
      ]
     },
     "execution_count": 9,
     "metadata": {},
     "output_type": "execute_result"
    },
    {
     "data": {
      "image/png": "[encoded data removed]",
      "text/plain": [
       "<Figure size 432x288 with 1 Axes>"
      ]
     },
     "metadata": {
      "needs_background": "light"
     },
     "output_type": "display_data"
    },
    {
     "data": {
      "image/png": "[encoded data removed]",
      "text/plain": [
       "<Figure size 432x288 with 1 Axes>"
      ]
     },
     "metadata": {
      "needs_background": "light"
     },
     "output_type": "display_data"
    }
   ],
   "source": [
    "fig1 = plt.figure(1)\n",
    "#fig1.tight_layout(pad=5.0)\n",
    "#plt.subplot(2,2,1)\n",
    "plt.hist(temp,bins=10)\n",
    "plt.title(\"Temperature (F)\")\n",
    "\n",
    "fig2 = plt.figure(2)\n",
    "#fig2.tight_layout(pad=5.0)\n",
    "#plt.subplot(2,2,2)\n",
    "plt.hist(wind,bins=10)\n",
    "plt.title(\"Wind Speed (mph)\")"
   ]
  },
  {
   "cell_type": "code",
   "execution_count": 10,
   "id": "a174901d",
   "metadata": {},
   "outputs": [
    {
     "name": "stdout",
     "output_type": "stream",
     "text": [
      "average temperature 65.1454499131879\n",
      "average wind speed 10.677210868045595\n",
      "standard deviation in temperature 16.493111616028717\n",
      "standard deviation in wind speed 2.5709718354990247\n"
     ]
    }
   ],
   "source": [
    "# calculate mean and standard deviation for normal distribution sampling\n",
    "temp_mean = np.mean(temp)\n",
    "wind_mean = np.mean(wind)\n",
    "temp_sd = np.std(temp)\n",
    "wind_sd = np.std(wind)\n",
    "print('average temperature ' + str(temp_mean))\n",
    "print('average wind speed ' + str(wind_mean))\n",
    "print('standard deviation in temperature ' + str(temp_sd))\n",
    "print('standard deviation in wind speed ' + str(wind_sd))"
   ]
  },
  {
   "cell_type": "code",
   "execution_count": 11,
   "id": "7e2df502",
   "metadata": {},
   "outputs": [
    {
     "name": "stdout",
     "output_type": "stream",
     "text": [
      "[0.01089013 0.00480944 0.01845874 ... 0.01318478 0.01090089 0.01665839]\n",
      "[0.145451   0.12289188 0.0951481  ... 0.06901315 0.15351933 0.09858582]\n"
     ]
    }
   ],
   "source": [
    "# compute normal distribution statistics\n",
    "temp_pdf = norm.pdf(temp, loc = temp_mean, scale = temp_sd)\n",
    "wind_pdf = norm.pdf(wind, loc = wind_mean, scale = wind_sd)\n",
    "print(temp_pdf)\n",
    "print(wind_pdf)"
   ]
  },
  {
   "cell_type": "code",
   "execution_count": 12,
   "id": "cad337ce",
   "metadata": {},
   "outputs": [
    {
     "name": "stdout",
     "output_type": "stream",
     "text": [
      "[82.021 80.267 84.95  ... 83.315 85.969 79.39 ]\n"
     ]
    }
   ],
   "source": [
    "# initialize 3 sample distributions form temperature and for wind\n",
    "temp_june = temp[:june_len]\n",
    "temp_july = temp[june_len:june_july]\n",
    "temp_aug = temp[june_july:]\n",
    "\n",
    "wind_june = wind[:june_len]\n",
    "wind_july = wind[june_len:june_july]\n",
    "wind_aug = wind[june_july:]\n",
    "\n",
    "print(temp_aug)"
   ]
  },
  {
   "cell_type": "code",
   "execution_count": 13,
   "id": "372304af",
   "metadata": {},
   "outputs": [
    {
     "data": {
      "text/plain": [
       "Text(0.5, 1.0, 'Temperature in August (F)')"
      ]
     },
     "execution_count": 13,
     "metadata": {},
     "output_type": "execute_result"
    },
    {
     "data": {
      "image/png": "[encoded data removed]",
      "text/plain": [
       "<Figure size 432x288 with 1 Axes>"
      ]
     },
     "metadata": {
      "needs_background": "light"
     },
     "output_type": "display_data"
    },
    {
     "data": {
      "image/png": "[encoded data removed]",
      "text/plain": [
       "<Figure size 432x288 with 1 Axes>"
      ]
     },
     "metadata": {
      "needs_background": "light"
     },
     "output_type": "display_data"
    },
    {
     "data": {
      "image/png": "[encoded data removed]",
      "text/plain": [
       "<Figure size 432x288 with 1 Axes>"
      ]
     },
     "metadata": {
      "needs_background": "light"
     },
     "output_type": "display_data"
    }
   ],
   "source": [
    "# initialize temperature plots by month\n",
    "\n",
    "fig3 = plt.figure(3)\n",
    "#plt.subplot(2,2,1)\n",
    "plt.hist(temp_june,bins=10)\n",
    "plt.title(\"Temperature in June (F)\")\n",
    "\n",
    "fig4 = plt.figure(4)\n",
    "#plt.subplot(2,2,2)\n",
    "plt.hist(temp_july,bins=10)\n",
    "plt.title(\"Temperature in July (F)\")\n",
    "\n",
    "fig5 = plt.figure(5)\n",
    "#plt.subplot(2,2,3)\n",
    "plt.hist(temp_aug,bins=10)\n",
    "plt.title(\"Temperature in August (F)\")"
   ]
  },
  {
   "cell_type": "code",
   "execution_count": 14,
   "id": "dc5c25df-0082-43f8-aed1-5487a75088a9",
   "metadata": {},
   "outputs": [
    {
     "name": "stdout",
     "output_type": "stream",
     "text": [
      "average temperature june 49.98429375\n",
      "average temperature july 60.02541263440861\n",
      "average temperature august 84.94200851445217\n",
      "standard deviation in temperature june 9.946466350942123\n",
      "standard deviation in temperature july 7.8859882444075176\n",
      "standard deviation in temperature august 2.9712194994382206\n"
     ]
    }
   ],
   "source": [
    "#Monthly average and standard deviation for temperature\n",
    "\n",
    "june_temp_mean = np.mean(temp_june)\n",
    "july_temp_mean = np.mean(temp_july)\n",
    "aug_temp_mean = np.mean(temp_aug)\n",
    "\n",
    "june_temp_sd = np.std(temp_june)\n",
    "july_temp_sd = np.std(temp_july)\n",
    "aug_temp_sd = np.std(temp_aug)\n",
    "\n",
    "print('average temperature june ' + str(june_temp_mean))\n",
    "print('average temperature july ' + str(july_temp_mean))\n",
    "print('average temperature august ' + str(aug_temp_mean))\n",
    "print('standard deviation in temperature june ' + str(june_temp_sd))\n",
    "print('standard deviation in temperature july ' + str(july_temp_sd))\n",
    "print('standard deviation in temperature august ' + str(aug_temp_sd))"
   ]
  },
  {
   "cell_type": "code",
   "execution_count": 68,
   "id": "aadd72a5-397d-4286-9037-eae3c8daab79",
   "metadata": {},
   "outputs": [
    {
     "name": "stdout",
     "output_type": "stream",
     "text": [
      "(30.489577928713906, 69.4790095712861)\n",
      "(44.56915969286363, 75.4816655759536)\n",
      "(79.11852530539014, 90.7654917235142)\n"
     ]
    },
    {
     "data": {
      "image/png": "[encoded data removed]",
      "text/plain": [
       "<Figure size 432x288 with 1 Axes>"
      ]
     },
     "metadata": {
      "needs_background": "light"
     },
     "output_type": "display_data"
    }
   ],
   "source": [
    "#Monthly Temperature Estimates\n",
    "temp_projection = np.arange(0, 100, 0.001)\n",
    "\n",
    "plt.plot(temp_projection, norm.pdf(temp_projection, june_temp_mean, june_temp_sd), label='June')\n",
    "plt.plot(temp_projection, norm.pdf(temp_projection, july_temp_mean, july_temp_sd), label='July')\n",
    "plt.plot(temp_projection, norm.pdf(temp_projection, aug_temp_mean, aug_temp_sd), label='August')\n",
    "\n",
    "plt.legend()\n",
    "\n",
    "june_temp_interval = norm.interval(0.95, june_temp_mean, june_temp_sd)\n",
    "july_temp_interval = norm.interval(0.95, july_temp_mean, july_temp_sd)\n",
    "aug_temp_interval = norm.interval(0.95, aug_temp_mean, aug_temp_sd)\n",
    "\n",
    "print(june_temp_interval)\n",
    "print(july_temp_interval)\n",
    "print(aug_temp_interval)"
   ]
  },
  {
   "cell_type": "code",
   "execution_count": 16,
   "id": "9b891974",
   "metadata": {},
   "outputs": [
    {
     "data": {
      "text/plain": [
       "Text(0.5, 1.0, 'Wind in August (mph)')"
      ]
     },
     "execution_count": 16,
     "metadata": {},
     "output_type": "execute_result"
    },
    {
     "data": {
      "image/png": "[encoded data removed]",
      "text/plain": [
       "<Figure size 432x288 with 1 Axes>"
      ]
     },
     "metadata": {
      "needs_background": "light"
     },
     "output_type": "display_data"
    },
    {
     "data": {
      "image/png": "[encoded data removed]",
      "text/plain": [
       "<Figure size 432x288 with 1 Axes>"
      ]
     },
     "metadata": {
      "needs_background": "light"
     },
     "output_type": "display_data"
    },
    {
     "data": {
      "image/png": "[encoded data removed]",
      "text/plain": [
       "<Figure size 432x288 with 1 Axes>"
      ]
     },
     "metadata": {
      "needs_background": "light"
     },
     "output_type": "display_data"
    }
   ],
   "source": [
    "# # initialize wind plots by month\n",
    "\n",
    "fig6 = plt.figure(6)\n",
    "#plt.subplot(2,2,1)\n",
    "plt.hist(wind_june,bins=10)\n",
    "plt.title(\"Wind in June (mph)\")\n",
    "\n",
    "fig7 = plt.figure(7)\n",
    "#plt.subplot(2,2,2)\n",
    "plt.hist(wind_july,bins=10)\n",
    "plt.title(\"Wind in July (mph)\")\n",
    "\n",
    "fig8 = plt.figure(8)\n",
    "#plt.subplot(2,2,3)\n",
    "plt.hist(wind_aug,bins=10)\n",
    "plt.title(\"Wind in August (mph)\")"
   ]
  },
  {
   "cell_type": "code",
   "execution_count": 17,
   "id": "61313317-1d8b-478d-bb3c-0af6a030dda9",
   "metadata": {},
   "outputs": [
    {
     "name": "stdout",
     "output_type": "stream",
     "text": [
      "average wind speed june 9.978825145833333\n",
      "average wind speed july 10.00941329278674\n",
      "average wind speed august 12.02116665919785\n",
      "standard deviation in wind speed june 1.9982199343708313\n",
      "standard deviation in wind speed july 2.9763601644293773\n",
      "standard deviation in wind speed august 2.0418971974361986\n"
     ]
    }
   ],
   "source": [
    "#Monthly average and standard deviation for wind speed\n",
    "\n",
    "june_wind_mean = np.mean(wind_june)\n",
    "july_wind_mean = np.mean(wind_july)\n",
    "aug_wind_mean = np.mean(wind_aug)\n",
    "\n",
    "june_wind_sd = np.std(wind_june)\n",
    "july_wind_sd = np.std(wind_july)\n",
    "aug_wind_sd = np.std(wind_aug)\n",
    "\n",
    "print('average wind speed june ' + str(june_wind_mean))\n",
    "print('average wind speed july ' + str(july_wind_mean))\n",
    "print('average wind speed august ' + str(aug_wind_mean))\n",
    "print('standard deviation in wind speed june ' + str(june_wind_sd))\n",
    "print('standard deviation in wind speed july ' + str(july_wind_sd))\n",
    "print('standard deviation in wind speed august ' + str(aug_wind_sd))"
   ]
  },
  {
   "cell_type": "code",
   "execution_count": 69,
   "id": "a17cbd24-aa0f-4ce0-afbf-c033503f458d",
   "metadata": {},
   "outputs": [
    {
     "name": "stdout",
     "output_type": "stream",
     "text": [
      "(6.062386041276513, 13.895264250390154)\n",
      "(4.175854565485446, 15.842972020088032)\n",
      "(8.019121692089628, 16.02321162630607)\n"
     ]
    },
    {
     "data": {
      "image/png": "[encoded data removed]",
      "text/plain": [
       "<Figure size 432x288 with 1 Axes>"
      ]
     },
     "metadata": {
      "needs_background": "light"
     },
     "output_type": "display_data"
    }
   ],
   "source": [
    "#Monthly Wind Estimates\n",
    "wind_projection = np.arange(0, 20, 0.001)\n",
    "\n",
    "plt.plot(wind_projection, norm.pdf(wind_projection, june_wind_mean, june_wind_sd), label='June')\n",
    "plt.plot(wind_projection, norm.pdf(wind_projection, july_wind_mean, july_wind_sd), label='July')\n",
    "plt.plot(wind_projection, norm.pdf(wind_projection, aug_wind_mean, aug_wind_sd), label='August')\n",
    "\n",
    "plt.legend()\n",
    "\n",
    "june_wind_interval = norm.interval(0.95, june_wind_mean, june_wind_sd)\n",
    "july_wind_interval = norm.interval(0.95, july_wind_mean, july_wind_sd)\n",
    "aug_wind_interval = norm.interval(0.95, aug_wind_mean, aug_wind_sd)\n",
    "\n",
    "print(june_wind_interval)\n",
    "print(july_wind_interval)\n",
    "print(aug_wind_interval)"
   ]
  },
  {
   "cell_type": "code",
   "execution_count": 21,
   "id": "f984f2fb-e935-46d2-b318-a5a50c02500d",
   "metadata": {},
   "outputs": [
    {
     "name": "stdout",
     "output_type": "stream",
     "text": [
      "4320\n",
      "4467\n",
      "6321\n"
     ]
    }
   ],
   "source": [
    "#Answering question 1: Price for each month at $6 per 1000 gallons and 1000 gallons per hour. Double price when temp above 85 and wind above 10\n",
    "# 1 time increment = 10 mins = $1 regular price or 2 doubled\n",
    "\n",
    "june_cost = 0\n",
    "for sample in range(june_len):\n",
    "    if temp_june[sample] > 85 and wind_june[sample] > 10:\n",
    "        june_cost += 2\n",
    "    else:\n",
    "        june_cost += 1\n",
    "print(june_cost)\n",
    "\n",
    "july_cost = 0\n",
    "for sample in range(july_len):\n",
    "    if temp_july[sample] > 85 and wind_july[sample] > 10:\n",
    "        july_cost += 2\n",
    "    else:\n",
    "        july_cost += 1\n",
    "print(july_cost)\n",
    "\n",
    "aug_cost = 0\n",
    "for sample in range(aug_len - 1):\n",
    "    if temp_aug[sample] > 85 and wind_aug[sample] > 10:\n",
    "        aug_cost += 2\n",
    "    else:\n",
    "        aug_cost += 1\n",
    "print(aug_cost)"
   ]
  }
 ],
 "metadata": {
  "kernelspec": {
   "display_name": "Python 3 (ipykernel)",
   "language": "python",
   "name": "python3"
  },
  "language_info": {
   "codemirror_mode": {
    "name": "ipython",
    "version": 3
   },
   "file_extension": ".py",
   "mimetype": "text/x-python",
   "name": "python",
   "nbconvert_exporter": "python",
   "pygments_lexer": "ipython3",
   "version": "3.9.12"
  }
 },
 "nbformat": 4,
 "nbformat_minor": 5
}
