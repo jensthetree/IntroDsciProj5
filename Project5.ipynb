{
 "cells": [
  {
   "cell_type": "code",
   "execution_count": 2,
   "id": "442d9584",
   "metadata": {},
   "outputs": [],
   "source": [
    "import csv\n",
    "import sys\n",
    "\n",
    "import numpy as np\n",
    "import matplotlib.pyplot as plt\n",
    "import pandas as pd\n",
    "\n",
    "\n",
    "\n",
    "# possible discrete distributions: bernouli, binomial, nbinomial, geometric, poisson\n",
    "# possible continuous distributions: normal, gamma, exponential, uniform\n",
    "# Given that these data points were taken continuously, and regard a natural phenomenon, our first guess is that \n",
    "# we should use the normal distribution to describe these phenomena\n",
    "\n",
    "from scipy.stats import norm"
   ]
  },
  {
   "cell_type": "code",
   "execution_count": 3,
   "id": "cbe3ef4e",
   "metadata": {},
   "outputs": [],
   "source": [
    "#### CONTINUOUS DISTRIBUTION DEFINITIONS ####\n",
    "# normal: useful for describing random naturally occuring phenomena. Based on mean and standard dev\n",
    "# gamma: useful for modeling data that should have a continuous and positively skewed nature. Based on shape and rate\n",
    "# uniform: useful for modeling data that has equal probability of occuring\n",
    "# exponential: usefol for modeling the probability distribution of time before events"
   ]
  },
  {
   "cell_type": "code",
   "execution_count": 4,
   "id": "51d515ca",
   "metadata": {},
   "outputs": [
    {
     "ename": "PermissionError",
     "evalue": "[Errno 13] Permission denied: 'C:\\\\Users\\\\joshu\\\\Documents\\\\DSCI125\\\\Projects\\\\Proj#5'",
     "output_type": "error",
     "traceback": [
      "\u001b[1;31m---------------------------------------------------------------------------\u001b[0m",
      "\u001b[1;31mPermissionError\u001b[0m                           Traceback (most recent call last)",
      "Input \u001b[1;32mIn [4]\u001b[0m, in \u001b[0;36m<cell line: 2>\u001b[1;34m()\u001b[0m\n\u001b[0;32m      1\u001b[0m \u001b[38;5;66;03m# read csv file\u001b[39;00m\n\u001b[1;32m----> 2\u001b[0m df_farm \u001b[38;5;241m=\u001b[39m \u001b[43mpd\u001b[49m\u001b[38;5;241;43m.\u001b[39;49m\u001b[43mread_csv\u001b[49m\u001b[43m(\u001b[49m\u001b[38;5;124;43m\"\u001b[39;49m\u001b[38;5;124;43mC:\u001b[39;49m\u001b[38;5;130;43;01m\\\\\u001b[39;49;00m\u001b[38;5;124;43mUsers\u001b[39;49m\u001b[38;5;130;43;01m\\\\\u001b[39;49;00m\u001b[38;5;124;43mjoshu\u001b[39;49m\u001b[38;5;130;43;01m\\\\\u001b[39;49;00m\u001b[38;5;124;43mDocuments\u001b[39;49m\u001b[38;5;130;43;01m\\\\\u001b[39;49;00m\u001b[38;5;124;43mDSCI125\u001b[39;49m\u001b[38;5;130;43;01m\\\\\u001b[39;49;00m\u001b[38;5;124;43mProjects\u001b[39;49m\u001b[38;5;130;43;01m\\\\\u001b[39;49;00m\u001b[38;5;124;43mProj#5\u001b[39;49m\u001b[38;5;124;43m\"\u001b[39;49m\u001b[43m)\u001b[49m\n",
      "File \u001b[1;32m~\\anaconda3\\lib\\site-packages\\pandas\\util\\_decorators.py:311\u001b[0m, in \u001b[0;36mdeprecate_nonkeyword_arguments.<locals>.decorate.<locals>.wrapper\u001b[1;34m(*args, **kwargs)\u001b[0m\n\u001b[0;32m    305\u001b[0m \u001b[38;5;28;01mif\u001b[39;00m \u001b[38;5;28mlen\u001b[39m(args) \u001b[38;5;241m>\u001b[39m num_allow_args:\n\u001b[0;32m    306\u001b[0m     warnings\u001b[38;5;241m.\u001b[39mwarn(\n\u001b[0;32m    307\u001b[0m         msg\u001b[38;5;241m.\u001b[39mformat(arguments\u001b[38;5;241m=\u001b[39marguments),\n\u001b[0;32m    308\u001b[0m         \u001b[38;5;167;01mFutureWarning\u001b[39;00m,\n\u001b[0;32m    309\u001b[0m         stacklevel\u001b[38;5;241m=\u001b[39mstacklevel,\n\u001b[0;32m    310\u001b[0m     )\n\u001b[1;32m--> 311\u001b[0m \u001b[38;5;28;01mreturn\u001b[39;00m func(\u001b[38;5;241m*\u001b[39margs, \u001b[38;5;241m*\u001b[39m\u001b[38;5;241m*\u001b[39mkwargs)\n",
      "File \u001b[1;32m~\\anaconda3\\lib\\site-packages\\pandas\\io\\parsers\\readers.py:680\u001b[0m, in \u001b[0;36mread_csv\u001b[1;34m(filepath_or_buffer, sep, delimiter, header, names, index_col, usecols, squeeze, prefix, mangle_dupe_cols, dtype, engine, converters, true_values, false_values, skipinitialspace, skiprows, skipfooter, nrows, na_values, keep_default_na, na_filter, verbose, skip_blank_lines, parse_dates, infer_datetime_format, keep_date_col, date_parser, dayfirst, cache_dates, iterator, chunksize, compression, thousands, decimal, lineterminator, quotechar, quoting, doublequote, escapechar, comment, encoding, encoding_errors, dialect, error_bad_lines, warn_bad_lines, on_bad_lines, delim_whitespace, low_memory, memory_map, float_precision, storage_options)\u001b[0m\n\u001b[0;32m    665\u001b[0m kwds_defaults \u001b[38;5;241m=\u001b[39m _refine_defaults_read(\n\u001b[0;32m    666\u001b[0m     dialect,\n\u001b[0;32m    667\u001b[0m     delimiter,\n\u001b[1;32m   (...)\u001b[0m\n\u001b[0;32m    676\u001b[0m     defaults\u001b[38;5;241m=\u001b[39m{\u001b[38;5;124m\"\u001b[39m\u001b[38;5;124mdelimiter\u001b[39m\u001b[38;5;124m\"\u001b[39m: \u001b[38;5;124m\"\u001b[39m\u001b[38;5;124m,\u001b[39m\u001b[38;5;124m\"\u001b[39m},\n\u001b[0;32m    677\u001b[0m )\n\u001b[0;32m    678\u001b[0m kwds\u001b[38;5;241m.\u001b[39mupdate(kwds_defaults)\n\u001b[1;32m--> 680\u001b[0m \u001b[38;5;28;01mreturn\u001b[39;00m \u001b[43m_read\u001b[49m\u001b[43m(\u001b[49m\u001b[43mfilepath_or_buffer\u001b[49m\u001b[43m,\u001b[49m\u001b[43m \u001b[49m\u001b[43mkwds\u001b[49m\u001b[43m)\u001b[49m\n",
      "File \u001b[1;32m~\\anaconda3\\lib\\site-packages\\pandas\\io\\parsers\\readers.py:575\u001b[0m, in \u001b[0;36m_read\u001b[1;34m(filepath_or_buffer, kwds)\u001b[0m\n\u001b[0;32m    572\u001b[0m _validate_names(kwds\u001b[38;5;241m.\u001b[39mget(\u001b[38;5;124m\"\u001b[39m\u001b[38;5;124mnames\u001b[39m\u001b[38;5;124m\"\u001b[39m, \u001b[38;5;28;01mNone\u001b[39;00m))\n\u001b[0;32m    574\u001b[0m \u001b[38;5;66;03m# Create the parser.\u001b[39;00m\n\u001b[1;32m--> 575\u001b[0m parser \u001b[38;5;241m=\u001b[39m TextFileReader(filepath_or_buffer, \u001b[38;5;241m*\u001b[39m\u001b[38;5;241m*\u001b[39mkwds)\n\u001b[0;32m    577\u001b[0m \u001b[38;5;28;01mif\u001b[39;00m chunksize \u001b[38;5;129;01mor\u001b[39;00m iterator:\n\u001b[0;32m    578\u001b[0m     \u001b[38;5;28;01mreturn\u001b[39;00m parser\n",
      "File \u001b[1;32m~\\anaconda3\\lib\\site-packages\\pandas\\io\\parsers\\readers.py:933\u001b[0m, in \u001b[0;36mTextFileReader.__init__\u001b[1;34m(self, f, engine, **kwds)\u001b[0m\n\u001b[0;32m    930\u001b[0m     \u001b[38;5;28mself\u001b[39m\u001b[38;5;241m.\u001b[39moptions[\u001b[38;5;124m\"\u001b[39m\u001b[38;5;124mhas_index_names\u001b[39m\u001b[38;5;124m\"\u001b[39m] \u001b[38;5;241m=\u001b[39m kwds[\u001b[38;5;124m\"\u001b[39m\u001b[38;5;124mhas_index_names\u001b[39m\u001b[38;5;124m\"\u001b[39m]\n\u001b[0;32m    932\u001b[0m \u001b[38;5;28mself\u001b[39m\u001b[38;5;241m.\u001b[39mhandles: IOHandles \u001b[38;5;241m|\u001b[39m \u001b[38;5;28;01mNone\u001b[39;00m \u001b[38;5;241m=\u001b[39m \u001b[38;5;28;01mNone\u001b[39;00m\n\u001b[1;32m--> 933\u001b[0m \u001b[38;5;28mself\u001b[39m\u001b[38;5;241m.\u001b[39m_engine \u001b[38;5;241m=\u001b[39m \u001b[38;5;28;43mself\u001b[39;49m\u001b[38;5;241;43m.\u001b[39;49m\u001b[43m_make_engine\u001b[49m\u001b[43m(\u001b[49m\u001b[43mf\u001b[49m\u001b[43m,\u001b[49m\u001b[43m \u001b[49m\u001b[38;5;28;43mself\u001b[39;49m\u001b[38;5;241;43m.\u001b[39;49m\u001b[43mengine\u001b[49m\u001b[43m)\u001b[49m\n",
      "File \u001b[1;32m~\\anaconda3\\lib\\site-packages\\pandas\\io\\parsers\\readers.py:1217\u001b[0m, in \u001b[0;36mTextFileReader._make_engine\u001b[1;34m(self, f, engine)\u001b[0m\n\u001b[0;32m   1213\u001b[0m     mode \u001b[38;5;241m=\u001b[39m \u001b[38;5;124m\"\u001b[39m\u001b[38;5;124mrb\u001b[39m\u001b[38;5;124m\"\u001b[39m\n\u001b[0;32m   1214\u001b[0m \u001b[38;5;66;03m# error: No overload variant of \"get_handle\" matches argument types\u001b[39;00m\n\u001b[0;32m   1215\u001b[0m \u001b[38;5;66;03m# \"Union[str, PathLike[str], ReadCsvBuffer[bytes], ReadCsvBuffer[str]]\"\u001b[39;00m\n\u001b[0;32m   1216\u001b[0m \u001b[38;5;66;03m# , \"str\", \"bool\", \"Any\", \"Any\", \"Any\", \"Any\", \"Any\"\u001b[39;00m\n\u001b[1;32m-> 1217\u001b[0m \u001b[38;5;28mself\u001b[39m\u001b[38;5;241m.\u001b[39mhandles \u001b[38;5;241m=\u001b[39m \u001b[43mget_handle\u001b[49m\u001b[43m(\u001b[49m\u001b[43m  \u001b[49m\u001b[38;5;66;43;03m# type: ignore[call-overload]\u001b[39;49;00m\n\u001b[0;32m   1218\u001b[0m \u001b[43m    \u001b[49m\u001b[43mf\u001b[49m\u001b[43m,\u001b[49m\n\u001b[0;32m   1219\u001b[0m \u001b[43m    \u001b[49m\u001b[43mmode\u001b[49m\u001b[43m,\u001b[49m\n\u001b[0;32m   1220\u001b[0m \u001b[43m    \u001b[49m\u001b[43mencoding\u001b[49m\u001b[38;5;241;43m=\u001b[39;49m\u001b[38;5;28;43mself\u001b[39;49m\u001b[38;5;241;43m.\u001b[39;49m\u001b[43moptions\u001b[49m\u001b[38;5;241;43m.\u001b[39;49m\u001b[43mget\u001b[49m\u001b[43m(\u001b[49m\u001b[38;5;124;43m\"\u001b[39;49m\u001b[38;5;124;43mencoding\u001b[39;49m\u001b[38;5;124;43m\"\u001b[39;49m\u001b[43m,\u001b[49m\u001b[43m \u001b[49m\u001b[38;5;28;43;01mNone\u001b[39;49;00m\u001b[43m)\u001b[49m\u001b[43m,\u001b[49m\n\u001b[0;32m   1221\u001b[0m \u001b[43m    \u001b[49m\u001b[43mcompression\u001b[49m\u001b[38;5;241;43m=\u001b[39;49m\u001b[38;5;28;43mself\u001b[39;49m\u001b[38;5;241;43m.\u001b[39;49m\u001b[43moptions\u001b[49m\u001b[38;5;241;43m.\u001b[39;49m\u001b[43mget\u001b[49m\u001b[43m(\u001b[49m\u001b[38;5;124;43m\"\u001b[39;49m\u001b[38;5;124;43mcompression\u001b[39;49m\u001b[38;5;124;43m\"\u001b[39;49m\u001b[43m,\u001b[49m\u001b[43m \u001b[49m\u001b[38;5;28;43;01mNone\u001b[39;49;00m\u001b[43m)\u001b[49m\u001b[43m,\u001b[49m\n\u001b[0;32m   1222\u001b[0m \u001b[43m    \u001b[49m\u001b[43mmemory_map\u001b[49m\u001b[38;5;241;43m=\u001b[39;49m\u001b[38;5;28;43mself\u001b[39;49m\u001b[38;5;241;43m.\u001b[39;49m\u001b[43moptions\u001b[49m\u001b[38;5;241;43m.\u001b[39;49m\u001b[43mget\u001b[49m\u001b[43m(\u001b[49m\u001b[38;5;124;43m\"\u001b[39;49m\u001b[38;5;124;43mmemory_map\u001b[39;49m\u001b[38;5;124;43m\"\u001b[39;49m\u001b[43m,\u001b[49m\u001b[43m \u001b[49m\u001b[38;5;28;43;01mFalse\u001b[39;49;00m\u001b[43m)\u001b[49m\u001b[43m,\u001b[49m\n\u001b[0;32m   1223\u001b[0m \u001b[43m    \u001b[49m\u001b[43mis_text\u001b[49m\u001b[38;5;241;43m=\u001b[39;49m\u001b[43mis_text\u001b[49m\u001b[43m,\u001b[49m\n\u001b[0;32m   1224\u001b[0m \u001b[43m    \u001b[49m\u001b[43merrors\u001b[49m\u001b[38;5;241;43m=\u001b[39;49m\u001b[38;5;28;43mself\u001b[39;49m\u001b[38;5;241;43m.\u001b[39;49m\u001b[43moptions\u001b[49m\u001b[38;5;241;43m.\u001b[39;49m\u001b[43mget\u001b[49m\u001b[43m(\u001b[49m\u001b[38;5;124;43m\"\u001b[39;49m\u001b[38;5;124;43mencoding_errors\u001b[39;49m\u001b[38;5;124;43m\"\u001b[39;49m\u001b[43m,\u001b[49m\u001b[43m \u001b[49m\u001b[38;5;124;43m\"\u001b[39;49m\u001b[38;5;124;43mstrict\u001b[39;49m\u001b[38;5;124;43m\"\u001b[39;49m\u001b[43m)\u001b[49m\u001b[43m,\u001b[49m\n\u001b[0;32m   1225\u001b[0m \u001b[43m    \u001b[49m\u001b[43mstorage_options\u001b[49m\u001b[38;5;241;43m=\u001b[39;49m\u001b[38;5;28;43mself\u001b[39;49m\u001b[38;5;241;43m.\u001b[39;49m\u001b[43moptions\u001b[49m\u001b[38;5;241;43m.\u001b[39;49m\u001b[43mget\u001b[49m\u001b[43m(\u001b[49m\u001b[38;5;124;43m\"\u001b[39;49m\u001b[38;5;124;43mstorage_options\u001b[39;49m\u001b[38;5;124;43m\"\u001b[39;49m\u001b[43m,\u001b[49m\u001b[43m \u001b[49m\u001b[38;5;28;43;01mNone\u001b[39;49;00m\u001b[43m)\u001b[49m\u001b[43m,\u001b[49m\n\u001b[0;32m   1226\u001b[0m \u001b[43m\u001b[49m\u001b[43m)\u001b[49m\n\u001b[0;32m   1227\u001b[0m \u001b[38;5;28;01massert\u001b[39;00m \u001b[38;5;28mself\u001b[39m\u001b[38;5;241m.\u001b[39mhandles \u001b[38;5;129;01mis\u001b[39;00m \u001b[38;5;129;01mnot\u001b[39;00m \u001b[38;5;28;01mNone\u001b[39;00m\n\u001b[0;32m   1228\u001b[0m f \u001b[38;5;241m=\u001b[39m \u001b[38;5;28mself\u001b[39m\u001b[38;5;241m.\u001b[39mhandles\u001b[38;5;241m.\u001b[39mhandle\n",
      "File \u001b[1;32m~\\anaconda3\\lib\\site-packages\\pandas\\io\\common.py:789\u001b[0m, in \u001b[0;36mget_handle\u001b[1;34m(path_or_buf, mode, encoding, compression, memory_map, is_text, errors, storage_options)\u001b[0m\n\u001b[0;32m    784\u001b[0m \u001b[38;5;28;01melif\u001b[39;00m \u001b[38;5;28misinstance\u001b[39m(handle, \u001b[38;5;28mstr\u001b[39m):\n\u001b[0;32m    785\u001b[0m     \u001b[38;5;66;03m# Check whether the filename is to be opened in binary mode.\u001b[39;00m\n\u001b[0;32m    786\u001b[0m     \u001b[38;5;66;03m# Binary mode does not support 'encoding' and 'newline'.\u001b[39;00m\n\u001b[0;32m    787\u001b[0m     \u001b[38;5;28;01mif\u001b[39;00m ioargs\u001b[38;5;241m.\u001b[39mencoding \u001b[38;5;129;01mand\u001b[39;00m \u001b[38;5;124m\"\u001b[39m\u001b[38;5;124mb\u001b[39m\u001b[38;5;124m\"\u001b[39m \u001b[38;5;129;01mnot\u001b[39;00m \u001b[38;5;129;01min\u001b[39;00m ioargs\u001b[38;5;241m.\u001b[39mmode:\n\u001b[0;32m    788\u001b[0m         \u001b[38;5;66;03m# Encoding\u001b[39;00m\n\u001b[1;32m--> 789\u001b[0m         handle \u001b[38;5;241m=\u001b[39m \u001b[38;5;28;43mopen\u001b[39;49m\u001b[43m(\u001b[49m\n\u001b[0;32m    790\u001b[0m \u001b[43m            \u001b[49m\u001b[43mhandle\u001b[49m\u001b[43m,\u001b[49m\n\u001b[0;32m    791\u001b[0m \u001b[43m            \u001b[49m\u001b[43mioargs\u001b[49m\u001b[38;5;241;43m.\u001b[39;49m\u001b[43mmode\u001b[49m\u001b[43m,\u001b[49m\n\u001b[0;32m    792\u001b[0m \u001b[43m            \u001b[49m\u001b[43mencoding\u001b[49m\u001b[38;5;241;43m=\u001b[39;49m\u001b[43mioargs\u001b[49m\u001b[38;5;241;43m.\u001b[39;49m\u001b[43mencoding\u001b[49m\u001b[43m,\u001b[49m\n\u001b[0;32m    793\u001b[0m \u001b[43m            \u001b[49m\u001b[43merrors\u001b[49m\u001b[38;5;241;43m=\u001b[39;49m\u001b[43merrors\u001b[49m\u001b[43m,\u001b[49m\n\u001b[0;32m    794\u001b[0m \u001b[43m            \u001b[49m\u001b[43mnewline\u001b[49m\u001b[38;5;241;43m=\u001b[39;49m\u001b[38;5;124;43m\"\u001b[39;49m\u001b[38;5;124;43m\"\u001b[39;49m\u001b[43m,\u001b[49m\n\u001b[0;32m    795\u001b[0m \u001b[43m        \u001b[49m\u001b[43m)\u001b[49m\n\u001b[0;32m    796\u001b[0m     \u001b[38;5;28;01melse\u001b[39;00m:\n\u001b[0;32m    797\u001b[0m         \u001b[38;5;66;03m# Binary mode\u001b[39;00m\n\u001b[0;32m    798\u001b[0m         handle \u001b[38;5;241m=\u001b[39m \u001b[38;5;28mopen\u001b[39m(handle, ioargs\u001b[38;5;241m.\u001b[39mmode)\n",
      "\u001b[1;31mPermissionError\u001b[0m: [Errno 13] Permission denied: 'C:\\\\Users\\\\joshu\\\\Documents\\\\DSCI125\\\\Projects\\\\Proj#5'"
     ]
    }
   ],
   "source": [
    "# read csv file\n",
    "df_farm = pd.read_csv(\"C://Users//jenst//OneDrive//Desktop//Intro to DSCI//Project5/agriculturalData.csv\")"
   ]
  },
  {
   "cell_type": "code",
   "execution_count": null,
   "id": "3e2b6789",
   "metadata": {},
   "outputs": [],
   "source": [
    "# print the head of the data frame to test\n",
    "#df_farm.head()\n",
    "#plt.plot(df_farm)"
   ]
  },
  {
   "cell_type": "code",
   "execution_count": null,
   "id": "e2e8d184",
   "metadata": {},
   "outputs": [],
   "source": [
    "# number of columns = amount of time\n",
    "# each increment of time is 10 minutes\n",
    "df_farm.shape"
   ]
  },
  {
   "cell_type": "code",
   "execution_count": null,
   "id": "6e0e17b1",
   "metadata": {},
   "outputs": [],
   "source": [
    "# set useful constants\n",
    "num_data_points = 13247\n",
    "\n",
    "time_increments_per_day = 144\n",
    "sample_size = time_increments_per_day\n",
    "\n",
    "num_days_june = 30\n",
    "june_len = num_days_june * 144\n",
    "\n",
    "num_days_july = 31\n",
    "july_len = num_days_july * 144\n",
    "\n",
    "num_days_august = 31\n",
    "aug_len = num_days_august * 144\n",
    "\n",
    "june_july = june_len + july_len\n",
    "\n",
    "num_days_df = num_days_june + num_days_july + num_days_august\n",
    "\n",
    "first_temp = 44.309\n",
    "first_wind = 11.602\n",
    "\n"
   ]
  },
  {
   "cell_type": "code",
   "execution_count": null,
   "id": "38337dbd",
   "metadata": {},
   "outputs": [],
   "source": [
    "# initialize an array for temperature measurements in degrees F\n",
    "flat_farm = df_farm.to_numpy()\n",
    "flat_farm.flatten()\n",
    "temp = np.zeros(num_samples)\n",
    "for i in range(num_samples):\n",
    "    if i == 0:\n",
    "        temp[i] = first_temp\n",
    "    else:\n",
    "        temp[i] = flat_farm[i][1]\n",
    "temp[:4]\n"
   ]
  },
  {
   "cell_type": "code",
   "execution_count": null,
   "id": "075db032",
   "metadata": {},
   "outputs": [],
   "source": [
    "# initialize wind measurements in mph\n",
    "wind = np.zeros(num_samples)\n",
    "for i in range(num_samples):\n",
    "    if i == 0:\n",
    "        wind[i] = first_wind\n",
    "    else:\n",
    "        wind[i] = flat_farm[i][2]\n",
    "wind[:4]"
   ]
  },
  {
   "cell_type": "code",
   "execution_count": null,
   "id": "66c7c0aa",
   "metadata": {},
   "outputs": [],
   "source": [
    "fig1 = plt.figure(1)\n",
    "#fig1.tight_layout(pad=5.0)\n",
    "#plt.subplot(2,2,1)\n",
    "plt.hist(temp,bins=10)\n",
    "plt.title(\"Temperature (F)\")\n",
    "\n",
    "fig2 = plt.figure(2)\n",
    "#fig2.tight_layout(pad=5.0)\n",
    "#plt.subplot(2,2,2)\n",
    "plt.hist(wind,bins=10)\n",
    "plt.title(\"Wind Speed (mph)\")"
   ]
  },
  {
   "cell_type": "code",
   "execution_count": null,
   "id": "a174901d",
   "metadata": {},
   "outputs": [],
   "source": [
    "# calculate mean and standard deviation for normal distribution sampling\n",
    "temp_mean = np.mean(temp)\n",
    "wind_mean = np.mean(wind)\n",
    "temp_sd = np.std(temp)\n",
    "wind_sd = np.std(wind)\n",
    "print('average temperature ' + str(temp_mean))\n",
    "print('average wind speed ' + str(wind_mean))\n",
    "print('standard deviation in temperature ' + str(temp_sd))\n",
    "print('standard deviation in wind speed ' + str(wind_sd))"
   ]
  },
  {
   "cell_type": "code",
   "execution_count": null,
   "id": "7e2df502",
   "metadata": {},
   "outputs": [],
   "source": [
    "# compute normal distribution statistics\n",
    "temp_pdf = norm.pdf(temp, loc = temp_mean, scale = temp_sd)\n",
    "wind_pdf = norm.pdf(wind, loc = wind_mean, scale = wind_sd)\n",
    "print(temp_pdf)\n",
    "print(wind_pdf)"
   ]
  },
  {
   "cell_type": "code",
   "execution_count": null,
   "id": "cad337ce",
   "metadata": {},
   "outputs": [],
   "source": [
    "# initialize 3 sample distributions form temperature and for wind\n",
    "temp_june = temp[:june_len]\n",
    "temp_july = temp[june_len:july_len]\n",
    "temp_aug = temp[june_july:]\n",
    "\n",
    "wind_june = wind[:june_len]\n",
    "wind_july = wind[june_len:july_len]\n",
    "wind_aug = wind[june_july:]\n",
    "\n",
    "print(temp_aug)"
   ]
  },
  {
   "cell_type": "code",
   "execution_count": null,
   "id": "372304af",
   "metadata": {},
   "outputs": [],
   "source": [
    "# initialize temperature plots by month\n",
    "\n",
    "fig3 = plt.figure(3)\n",
    "#plt.subplot(2,2,1)\n",
    "plt.hist(temp_june,bins=10)\n",
    "plt.title(\"Temperature in June (F)\")\n",
    "\n",
    "fig4 = plt.figure(4)\n",
    "#plt.subplot(2,2,2)\n",
    "plt.hist(temp_july,bins=10)\n",
    "plt.title(\"Temperature in July (F)\")\n",
    "\n",
    "fig5 = plt.figure(5)\n",
    "#plt.subplot(2,2,3)\n",
    "plt.hist(temp_aug,bins=10)\n",
    "plt.title(\"Temperature in August (F)\")"
   ]
  },
  {
   "cell_type": "code",
   "execution_count": null,
   "id": "9b891974",
   "metadata": {},
   "outputs": [],
   "source": [
    "# # initialize wind plots by month\n",
    "\n",
    "fig6 = plt.figure(6)\n",
    "#plt.subplot(2,2,1)\n",
    "plt.hist(wind_june,bins=10)\n",
    "plt.title(\"Wind in June (mph)\")\n",
    "\n",
    "fig7 = plt.figure(7)\n",
    "#plt.subplot(2,2,2)\n",
    "plt.hist(wind_july,bins=10)\n",
    "plt.title(\"Wind in July (mph)\")\n",
    "\n",
    "fig8 = plt.figure(8)\n",
    "#plt.subplot(2,2,3)\n",
    "plt.hist(wind_aug,bins=10)\n",
    "plt.title(\"Wind in August (mph)\")"
   ]
  },
  {
   "cell_type": "code",
   "execution_count": null,
   "id": "89f14889",
   "metadata": {},
   "outputs": [],
   "source": [
    "# june_increments = df_farm[1:june_len + 1]\n",
    "# july_incrementss = df_farm[1:july_len + 1]\n",
    "# august_incrementss = df_farm[1:august_len + 1]\n"
   ]
  },
  {
   "cell_type": "code",
   "execution_count": null,
   "id": "c7d25c46",
   "metadata": {},
   "outputs": [],
   "source": [
    "# poisson.rsv(lambda_gat)all, size = num_samples)\n",
    "# NOT A POISSON"
   ]
  },
  {
   "cell_type": "code",
   "execution_count": null,
   "id": "f984f2fb-e935-46d2-b318-a5a50c02500d",
   "metadata": {},
   "outputs": [],
   "source": [
    "#Answering question 1: Price for each month at $6 per 1000 gallons and 1000 gallons per hour. Double price when temp above 85 and wind above 10\n",
    "# 1 time increment = 10 mins = $1 regular price or 2 doubled\n",
    "\n",
    "june_cost = 0\n",
    "for sample in range(june_len):\n",
    "    if temp_june[sample] > 85 and wind_june[sample] > 10:\n",
    "        june_cost += 2\n",
    "    else:\n",
    "        june_cost += 1\n",
    "print(june_cost)\n",
    "\n",
    "july_cost = 0\n",
    "for sample in range(july_len):\n",
    "    if temp_july[sample] > 85 and wind_july[sample] > 10:\n",
    "        july_cost += 2\n",
    "    else:\n",
    "        july_cost += 1\n",
    "print(july_cost)\n",
    "\n",
    "aug_cost = 0\n",
    "for sample in range(aug_len):\n",
    "    if temp_aug[sample] > 85 and wind_aug[sample] > 10:\n",
    "        aug_cost += 2\n",
    "    else:\n",
    "        aug_cost += 1\n",
    "print(aug_cost)"
   ]
  }
 ],
 "metadata": {
  "kernelspec": {
   "display_name": "Python 3 (ipykernel)",
   "language": "python",
   "name": "python3"
  },
  "language_info": {
   "codemirror_mode": {
    "name": "ipython",
    "version": 3
   },
   "file_extension": ".py",
   "mimetype": "text/x-python",
   "name": "python",
   "nbconvert_exporter": "python",
   "pygments_lexer": "ipython3",
   "version": "3.9.12"
  }
 },
 "nbformat": 4,
 "nbformat_minor": 5
}
